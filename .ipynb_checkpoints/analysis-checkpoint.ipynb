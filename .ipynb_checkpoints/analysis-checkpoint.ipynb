{
 "cells": [
  {
   "cell_type": "markdown",
   "id": "daca4674-0e50-41a7-b71e-a2a5063970ef",
   "metadata": {},
   "source": [
    "# 1.环境准备与参数配置"
   ]
  },
  {
   "cell_type": "code",
   "execution_count": 1,
   "id": "c50a8945-1ee1-4c88-a7a8-cd629af900d4",
   "metadata": {},
   "outputs": [
    {
     "name": "stderr",
     "output_type": "stream",
     "text": [
      "C:\\Users\\Zhou Liying\\.conda\\envs\\env1\\Lib\\site-packages\\tqdm\\auto.py:21: TqdmWarning: IProgress not found. Please update jupyter and ipywidgets. See https://ipywidgets.readthedocs.io/en/stable/user_install.html\n",
      "  from .autonotebook import tqdm as notebook_tqdm\n"
     ]
    },
    {
     "name": "stdout",
     "output_type": "stream",
     "text": [
      "当前使用设备：cpu\n"
     ]
    }
   ],
   "source": [
    "# # 金庸小说语义分析系统\n",
    "# 功能模块：\n",
    "# - 多文本自动加载\n",
    "# - 精准实体识别（人物/门派/武功）\n",
    "# - Word2Vec词向量训练\n",
    "# - 三维语义可视化\n",
    "\n",
    "# ## 参数配置区\n",
    "# 在此配置路径和模型参数\n",
    "\n",
    "# \n",
    "import os\n",
    "import re\n",
    "import torch\n",
    "import torch.nn as nn\n",
    "import torch.optim as optim\n",
    "from torch.utils.data import Dataset,DataLoader,TensorDataset\n",
    "import jieba\n",
    "import numpy as np\n",
    "from collections import defaultdict\n",
    "from tqdm.auto import tqdm\n",
    "from sklearn.decomposition import PCA\n",
    "import matplotlib.pyplot as plt\n",
    "from mpl_toolkits.mplot3d import Axes3D\n",
    "\n",
    "# ===== 新增检查点控制标志 =====\n",
    "LOAD_CHECKPOINT = False  # 设置为True时加载检查点跳过训练\n",
    "\n",
    "# ===== 用户配置 =====\n",
    "CONFIG = {\n",
    "    # 路径配置\n",
    "    \"novel_dir\": \"./novel\",            # 小说存放目录\n",
    "    \"userwords_dir\": \"./userwords\",    # 实体词典目录\n",
    "    \"inf_file\": \"inf.txt\",             # 小说列表文件\n",
    "    \"entity_files\": {                  # 实体词典文件\n",
    "        \"orgs\": \"金庸小说全门派.txt\",\n",
    "        \"persons\": \"金庸小说全人物.txt\", \n",
    "        \"skills\": \"金庸小说全武功.txt\",\n",
    "        \"stopwords\": \"stop_words.txt\"\n",
    "    },\n",
    "    \n",
    "    # 模型参数\n",
    "    \"embed_dim\": 300,          # 词向量维度（建议128-512）\n",
    "    \"window_size\": 5,          # 上下文窗口\n",
    "    \"min_word_count\": 5,       # 最低词频\n",
    "    \"batch_size\": 4096,        # 训练批大小\n",
    "    \"epochs\": 15,              # 训练轮次\n",
    "    \n",
    "    # 可视化参数  \n",
    "    \"visual_topn\": 150,        # 每类显示数量\n",
    "    \"label_fontsize\": 8,       # 标签字号\n",
    "    \"marker_size\": 40          # 点大小\n",
    "}\n",
    "\n",
    "# 检查GPU可用性\n",
    "DEVICE = torch.device(\"cuda\" if torch.cuda.is_available() else \"cpu\")\n",
    "print(f\"当前使用设备：{DEVICE}\")\n"
   ]
  },
  {
   "cell_type": "markdown",
   "id": "6b45dbda-a270-4f71-9ecb-afe011a2982b",
   "metadata": {},
   "source": [
    "# 2.数据加载模块"
   ]
  },
  {
   "cell_type": "code",
   "execution_count": 2,
   "id": "ba8a0a4a-6c5f-45eb-b93c-cf23e60b25b2",
   "metadata": {},
   "outputs": [
    {
     "name": "stdout",
     "output_type": "stream",
     "text": [
      "======================================== 初始化数据加载 ========================================\n",
      "✓ 成功加载 金庸小说全门派.txt（编码：GB2312）\n",
      "✓ 成功加载 金庸小说全人物.txt（编码：GB2312）\n",
      "✓ 成功加载 金庸小说全武功.txt（编码：GB2312）\n",
      "✓ 加载停用词: 1902 条\n"
     ]
    },
    {
     "name": "stderr",
     "output_type": "stream",
     "text": [
      "Building prefix dict from the default dictionary ...\n",
      "加载小说:   0%|                                                                                 | 0/16 [00:00<?, ?it/s]Loading model from cache C:\\Users\\ZHOULI~1\\AppData\\Local\\Temp\\jieba.cache\n",
      "Loading model cost 1.599 seconds.\n",
      "Prefix dict has been built successfully.\n",
      "加载小说: 100%|████████████████████████████████████████████████████████████████████████| 16/16 [00:48<00:00,  3.01s/it]\n"
     ]
    },
    {
     "name": "stdout",
     "output_type": "stream",
     "text": [
      "\n",
      "✅ 语料加载完成 | 总词数: 2,097,595 | 唯一词数: 152,597\n"
     ]
    },
    {
     "name": "stderr",
     "output_type": "stream",
     "text": [
      "统计词频: 100%|█████████████████████████████████████████████████████| 2097595/2097595 [00:00<00:00, 4326664.01 words/s]"
     ]
    },
    {
     "name": "stdout",
     "output_type": "stream",
     "text": [
      "📚 有效词汇表: 41,971 词 (阈频 ≥5)\n"
     ]
    },
    {
     "name": "stderr",
     "output_type": "stream",
     "text": [
      "\n"
     ]
    }
   ],
   "source": [
    "# 实现：\n",
    "# 1. 加载官方实体词典\n",
    "# 2. 合并多本小说文本\n",
    "# 3. 执行分词与清洗\n",
    "\n",
    "# \n",
    "class DataLoader:\n",
    "    def __init__(self, config):\n",
    "        self.config = config\n",
    "        self.entity_data = self._load_entity_dicts()\n",
    "        self.corpus = self._load_corpus()\n",
    "        self.vocab, self.idx2word = self._build_vocab()\n",
    "\n",
    "    def _detect_encoding(self, file_path):\n",
    "        \"\"\"自动检测文件编码\"\"\"\n",
    "        from chardet import detect\n",
    "        with open(file_path, 'rb') as f:\n",
    "            rawdata = f.read(10000)  # 读取前10000字节用于检测\n",
    "            result = detect(rawdata)\n",
    "        return result['encoding']\n",
    "\n",
    "    \n",
    "    def _load_entity_dicts(self):\n",
    "        \"\"\"加载实体词典和停用词（增强编码处理）\"\"\"\n",
    "        entity_dicts = {}\n",
    "        base_path = self.config['userwords_dir']\n",
    "        \n",
    "        # 加载实体词典（自动检测编码）\n",
    "        for key, filename in self.config['entity_files'].items():\n",
    "            if key == 'stopwords':\n",
    "                continue\n",
    "            \n",
    "            file_path = os.path.join(base_path, filename)\n",
    "            entity_dicts[key] = set()\n",
    "            \n",
    "            try:\n",
    "                # 检测文件编码\n",
    "                encoding = self._detect_encoding(file_path)\n",
    "                with open(file_path, 'r', encoding=encoding, errors='replace') as f:\n",
    "                    entity_dicts[key] = {line.strip() for line in f if line.strip()}\n",
    "                print(f\"✓ 成功加载 {filename}（编码：{encoding}）\")\n",
    "            except Exception as e:\n",
    "                print(f\"⚠ 尝试自动编码加载 {filename} 失败: {str(e)}\")\n",
    "                print(\"尝试GB18030编码回退...\")\n",
    "                try:\n",
    "                    with open(file_path, 'r', encoding='gb18030', errors='replace') as f:\n",
    "                        entity_dicts[key] = {line.strip() for line in f if line.strip()}\n",
    "                    print(f\"✓ 成功回退加载 {filename}（使用GB18030编码）\")\n",
    "                except Exception as e2:\n",
    "                    print(f\"✗ 终极加载失败: {str(e2)}\")\n",
    "                    entity_dicts[key] = set()\n",
    "        \n",
    "        # 加载停用词（兼容GB18030）\n",
    "        stop_path = os.path.join(base_path, self.config['entity_files']['stopwords'])\n",
    "        try:\n",
    "            # 尝试UTF-8读取\n",
    "            with open(stop_path, 'r', encoding='utf-8') as f:\n",
    "                stopwords = {line.strip() for line in f if line.strip()}\n",
    "        except UnicodeDecodeError:\n",
    "            # 回退到GB18030\n",
    "            with open(stop_path, 'r', encoding='gb18030') as f:\n",
    "                stopwords = {line.strip() for line in f if line.strip()}\n",
    "        entity_dicts['stopwords'] = stopwords\n",
    "        print(f\"✓ 加载停用词: {len(stopwords)} 条\")\n",
    "            \n",
    "        return entity_dicts\n",
    "\n",
    "    def _clean_text(self, text):\n",
    "        \"\"\"增强编码鲁棒性的文本清洗\"\"\"\n",
    "        # 编码规范化处理\n",
    "        try:\n",
    "            text = text.encode('utf-8').decode('utf-8')\n",
    "        except UnicodeDecodeError:\n",
    "            text = text.encode('gb18030', errors='ignore').decode('gb18030', errors='ignore')\n",
    "        \n",
    "        # 移除特殊字符\n",
    "        text = re.sub(r'[\\u3000\\xa0■◆●○★☆【】「」]+', '', text)\n",
    "        # 合并重复标点\n",
    "        return re.sub(r'([！？。，；：“”‘’（）])\\1+', r'\\1', text)\n",
    "\n",
    "    def _tokenize(self, text):\n",
    "        \"\"\"实体保护的分词处理\"\"\"\n",
    "        protected_phrases = (self.entity_data['persons'] | \n",
    "                            self.entity_data['orgs'] | \n",
    "                            self.entity_data['skills'])\n",
    "        jieba.re_han_default = re.compile(f'({\"|\".join(protected_phrases)}|[\\\\w\\\\d]+)', re.UNICODE)\n",
    "        \n",
    "        return [\n",
    "            word for sentence in jieba.cut(text)\n",
    "            if (word := sentence.strip()) \n",
    "            and word not in self.entity_data['stopwords']\n",
    "            and (len(word) > 1 or word in protected_phrases)\n",
    "        ]\n",
    "\n",
    "    def _load_novel(self, novel_name):\n",
    "        \"\"\"安全加载单本小说\"\"\"\n",
    "        file_path = os.path.join(self.config['novel_dir'], f\"{novel_name}.txt\")\n",
    "        if not os.path.exists(file_path):\n",
    "            print(f\"\\n⚠ 文件缺失: {file_path}\")\n",
    "            return []\n",
    "        \n",
    "        try:\n",
    "            # 自动检测编码\n",
    "            encoding = self._detect_encoding(file_path)\n",
    "            with open(file_path, \"r\", encoding=encoding, errors='replace') as f:\n",
    "                text = f.read()\n",
    "                text = self._clean_text(text)\n",
    "                return self._tokenize(text)\n",
    "        except Exception as e:\n",
    "            print(f\"\\n⚠ 加载 {novel_name} 失败: {str(e)}\")\n",
    "            print(\"尝试备用编码方案...\")\n",
    "            try:\n",
    "                # 备用编码尝试\n",
    "                encodings = ['gb18030', 'gbk', 'big5', 'utf-16']\n",
    "                for enc in encodings:\n",
    "                    try:\n",
    "                        with open(file_path, \"r\", encoding=enc, errors='replace') as f:\n",
    "                            text = f.read()\n",
    "                            text = self._clean_text(text)\n",
    "                            return self._tokenize(text)\n",
    "                    except:\n",
    "                        continue\n",
    "                print(\"所有编码尝试失败!\")\n",
    "                return []\n",
    "            except Exception as e2:\n",
    "                print(f\"最终加载失败: {str(e2)}\")\n",
    "                return []\n",
    "\n",
    "    def _load_corpus(self):\n",
    "        \"\"\"加载全部小说数据\"\"\"\n",
    "        # 加载小说列表文件\n",
    "        info_path = os.path.join(self.config['novel_dir'], self.config['inf_file'])\n",
    "        try:\n",
    "            # 检测inf.txt编码\n",
    "            inf_encoding = self._detect_encoding(info_path)\n",
    "            with open(info_path, \"r\", encoding=inf_encoding) as f:\n",
    "                novel_names = [name.strip() for name in f.read().split(\",\") if name.strip()]\n",
    "        except Exception as e:\n",
    "            print(f\"⚠ 加载小说列表失败: {str(e)}\")\n",
    "            print(\"尝试默认编码...\")\n",
    "            try:\n",
    "                with open(info_path, \"r\", encoding='gb18030') as f:\n",
    "                    novel_names = [name.strip() for name in f.read().split(\",\") if name.strip()]\n",
    "            except:\n",
    "                print(\"无法读取小说列表文件！\")\n",
    "                return []\n",
    "        \n",
    "        # 多线程加载小说内容\n",
    "        from concurrent.futures import ThreadPoolExecutor\n",
    "        corpus = []\n",
    "        with ThreadPoolExecutor(max_workers=4) as executor:\n",
    "            futures = []\n",
    "            for name in novel_names:\n",
    "                futures.append(executor.submit(self._load_novel, name))\n",
    "            \n",
    "            for future in tqdm(futures, desc=\"加载小说\"):\n",
    "                corpus += future.result()\n",
    "        \n",
    "        print(f\"\\n✅ 语料加载完成 | 总词数: {len(corpus):,} | 唯一词数: {len(set(corpus)):,}\")\n",
    "        return corpus\n",
    "\n",
    "    def _build_vocab(self):\n",
    "        \"\"\"构建词汇表（修正索引分配）\"\"\"\n",
    "        word_freq = defaultdict(int)\n",
    "        for word in tqdm(self.corpus, desc=\"统计词频\", unit=\" words\"):\n",
    "            word_freq[word] += 1\n",
    "        \n",
    "        # 筛选有效词汇并按频率排序\n",
    "        valid_words = [word for word, cnt in word_freq.items() \n",
    "                      if cnt >= self.config['min_word_count']]\n",
    "        valid_words = sorted(valid_words, key=lambda x: word_freq[x], reverse=True)\n",
    "        \n",
    "        # 创建连续索引\n",
    "        vocab = {word: idx for idx, word in enumerate(valid_words)}\n",
    "        vocab[\"<UNK>\"] = len(vocab)  # 添加未知词标记\n",
    "        idx2word = {v: k for k, v in vocab.items()}\n",
    "        \n",
    "        print(f\"📚 有效词汇表: {len(vocab):,} 词 (阈频 ≥{self.config['min_word_count']})\")\n",
    "        return vocab, idx2word\n",
    "\n",
    "\n",
    "# 初始化数据加载器\n",
    "print(\"=\"*40 + \" 初始化数据加载 \" + \"=\"*40)\n",
    "data_loader = DataLoader(CONFIG)"
   ]
  },
  {
   "cell_type": "markdown",
   "id": "85564877-993b-48c7-882a-54712ec9d757",
   "metadata": {},
   "source": [
    "# 3.模型定义与训练"
   ]
  },
  {
   "cell_type": "code",
   "execution_count": 3,
   "id": "9ff8a63a-746a-4a67-9dab-e0ffd91ca6a7",
   "metadata": {},
   "outputs": [
    {
     "name": "stdout",
     "output_type": "stream",
     "text": [
      "\n",
      "======================================== 开始模型训练 ========================================\n"
     ]
    },
    {
     "name": "stderr",
     "output_type": "stream",
     "text": [
      "生成样本: 100%|██████████████████████████████████████████████████████████| 2097585/2097585 [00:06<00:00, 321445.35it/s]\n"
     ]
    },
    {
     "name": "stdout",
     "output_type": "stream",
     "text": [
      "生成训练样本：20,975,850 对\n"
     ]
    },
    {
     "name": "stderr",
     "output_type": "stream",
     "text": [
      "训练轮次 1/15: 100%|█████████████████████████████████████████████████████████████| 5122/5122 [1:57:21<00:00,  1.37s/it]\n"
     ]
    },
    {
     "name": "stdout",
     "output_type": "stream",
     "text": [
      "轮次 1 平均损失：8.9050\n"
     ]
    },
    {
     "name": "stderr",
     "output_type": "stream",
     "text": [
      "训练轮次 2/15: 100%|█████████████████████████████████████████████████████████████| 5122/5122 [1:56:37<00:00,  1.37s/it]\n"
     ]
    },
    {
     "name": "stdout",
     "output_type": "stream",
     "text": [
      "轮次 2 平均损失：8.4328\n"
     ]
    },
    {
     "name": "stderr",
     "output_type": "stream",
     "text": [
      "训练轮次 3/15: 100%|█████████████████████████████████████████████████████████████| 5122/5122 [1:58:53<00:00,  1.39s/it]\n"
     ]
    },
    {
     "name": "stdout",
     "output_type": "stream",
     "text": [
      "轮次 3 平均损失：8.2846\n"
     ]
    },
    {
     "name": "stderr",
     "output_type": "stream",
     "text": [
      "训练轮次 4/15: 100%|█████████████████████████████████████████████████████████████| 5122/5122 [1:58:25<00:00,  1.39s/it]\n"
     ]
    },
    {
     "name": "stdout",
     "output_type": "stream",
     "text": [
      "轮次 4 平均损失：8.1890\n"
     ]
    },
    {
     "name": "stderr",
     "output_type": "stream",
     "text": [
      "训练轮次 5/15: 100%|█████████████████████████████████████████████████████████████| 5122/5122 [2:00:45<00:00,  1.41s/it]\n"
     ]
    },
    {
     "name": "stdout",
     "output_type": "stream",
     "text": [
      "轮次 5 平均损失：8.1165\n"
     ]
    },
    {
     "name": "stderr",
     "output_type": "stream",
     "text": [
      "训练轮次 6/15: 100%|█████████████████████████████████████████████████████████████| 5122/5122 [1:56:18<00:00,  1.36s/it]\n"
     ]
    },
    {
     "name": "stdout",
     "output_type": "stream",
     "text": [
      "轮次 6 平均损失：8.0574\n"
     ]
    },
    {
     "name": "stderr",
     "output_type": "stream",
     "text": [
      "训练轮次 7/15: 100%|█████████████████████████████████████████████████████████████| 5122/5122 [1:58:21<00:00,  1.39s/it]\n"
     ]
    },
    {
     "name": "stdout",
     "output_type": "stream",
     "text": [
      "轮次 7 平均损失：8.0076\n"
     ]
    },
    {
     "name": "stderr",
     "output_type": "stream",
     "text": [
      "训练轮次 8/15: 100%|█████████████████████████████████████████████████████████████| 5122/5122 [1:59:38<00:00,  1.40s/it]\n"
     ]
    },
    {
     "name": "stdout",
     "output_type": "stream",
     "text": [
      "轮次 8 平均损失：7.9645\n"
     ]
    },
    {
     "name": "stderr",
     "output_type": "stream",
     "text": [
      "训练轮次 9/15: 100%|█████████████████████████████████████████████████████████████| 5122/5122 [1:56:18<00:00,  1.36s/it]\n"
     ]
    },
    {
     "name": "stdout",
     "output_type": "stream",
     "text": [
      "轮次 9 平均损失：7.9267\n"
     ]
    },
    {
     "name": "stderr",
     "output_type": "stream",
     "text": [
      "训练轮次 10/15: 100%|████████████████████████████████████████████████████████████| 5122/5122 [1:56:20<00:00,  1.36s/it]\n"
     ]
    },
    {
     "name": "stdout",
     "output_type": "stream",
     "text": [
      "轮次 10 平均损失：7.8930\n"
     ]
    },
    {
     "name": "stderr",
     "output_type": "stream",
     "text": [
      "训练轮次 11/15: 100%|████████████████████████████████████████████████████████████| 5122/5122 [1:57:08<00:00,  1.37s/it]\n"
     ]
    },
    {
     "name": "stdout",
     "output_type": "stream",
     "text": [
      "轮次 11 平均损失：7.8629\n"
     ]
    },
    {
     "name": "stderr",
     "output_type": "stream",
     "text": [
      "训练轮次 12/15: 100%|████████████████████████████████████████████████████████████| 5122/5122 [1:57:03<00:00,  1.37s/it]\n"
     ]
    },
    {
     "name": "stdout",
     "output_type": "stream",
     "text": [
      "轮次 12 平均损失：7.8354\n"
     ]
    },
    {
     "name": "stderr",
     "output_type": "stream",
     "text": [
      "训练轮次 13/15: 100%|████████████████████████████████████████████████████████████| 5122/5122 [2:02:45<00:00,  1.44s/it]\n"
     ]
    },
    {
     "name": "stdout",
     "output_type": "stream",
     "text": [
      "轮次 13 平均损失：7.8105\n"
     ]
    },
    {
     "name": "stderr",
     "output_type": "stream",
     "text": [
      "训练轮次 14/15: 100%|████████████████████████████████████████████████████████████| 5122/5122 [1:59:50<00:00,  1.40s/it]\n"
     ]
    },
    {
     "name": "stdout",
     "output_type": "stream",
     "text": [
      "轮次 14 平均损失：7.7877\n"
     ]
    },
    {
     "name": "stderr",
     "output_type": "stream",
     "text": [
      "训练轮次 15/15: 100%|████████████████████████████████████████████████████████████| 5122/5122 [1:58:12<00:00,  1.38s/it]"
     ]
    },
    {
     "name": "stdout",
     "output_type": "stream",
     "text": [
      "轮次 15 平均损失：7.7668\n"
     ]
    },
    {
     "name": "stderr",
     "output_type": "stream",
     "text": [
      "\n",
      "C:\\Users\\Zhou Liying\\.conda\\envs\\env1\\Lib\\site-packages\\IPython\\core\\pylabtools.py:170: UserWarning: Glyph 25439 (\\N{CJK UNIFIED IDEOGRAPH-635F}) missing from font(s) DejaVu Sans.\n",
      "  fig.canvas.print_figure(bytes_io, **kw)\n",
      "C:\\Users\\Zhou Liying\\.conda\\envs\\env1\\Lib\\site-packages\\IPython\\core\\pylabtools.py:170: UserWarning: Glyph 22833 (\\N{CJK UNIFIED IDEOGRAPH-5931}) missing from font(s) DejaVu Sans.\n",
      "  fig.canvas.print_figure(bytes_io, **kw)\n",
      "C:\\Users\\Zhou Liying\\.conda\\envs\\env1\\Lib\\site-packages\\IPython\\core\\pylabtools.py:170: UserWarning: Glyph 20540 (\\N{CJK UNIFIED IDEOGRAPH-503C}) missing from font(s) DejaVu Sans.\n",
      "  fig.canvas.print_figure(bytes_io, **kw)\n",
      "C:\\Users\\Zhou Liying\\.conda\\envs\\env1\\Lib\\site-packages\\IPython\\core\\pylabtools.py:170: UserWarning: Glyph 35757 (\\N{CJK UNIFIED IDEOGRAPH-8BAD}) missing from font(s) DejaVu Sans.\n",
      "  fig.canvas.print_figure(bytes_io, **kw)\n",
      "C:\\Users\\Zhou Liying\\.conda\\envs\\env1\\Lib\\site-packages\\IPython\\core\\pylabtools.py:170: UserWarning: Glyph 32451 (\\N{CJK UNIFIED IDEOGRAPH-7EC3}) missing from font(s) DejaVu Sans.\n",
      "  fig.canvas.print_figure(bytes_io, **kw)\n",
      "C:\\Users\\Zhou Liying\\.conda\\envs\\env1\\Lib\\site-packages\\IPython\\core\\pylabtools.py:170: UserWarning: Glyph 21464 (\\N{CJK UNIFIED IDEOGRAPH-53D8}) missing from font(s) DejaVu Sans.\n",
      "  fig.canvas.print_figure(bytes_io, **kw)\n",
      "C:\\Users\\Zhou Liying\\.conda\\envs\\env1\\Lib\\site-packages\\IPython\\core\\pylabtools.py:170: UserWarning: Glyph 21270 (\\N{CJK UNIFIED IDEOGRAPH-5316}) missing from font(s) DejaVu Sans.\n",
      "  fig.canvas.print_figure(bytes_io, **kw)\n",
      "C:\\Users\\Zhou Liying\\.conda\\envs\\env1\\Lib\\site-packages\\IPython\\core\\pylabtools.py:170: UserWarning: Glyph 26354 (\\N{CJK UNIFIED IDEOGRAPH-66F2}) missing from font(s) DejaVu Sans.\n",
      "  fig.canvas.print_figure(bytes_io, **kw)\n",
      "C:\\Users\\Zhou Liying\\.conda\\envs\\env1\\Lib\\site-packages\\IPython\\core\\pylabtools.py:170: UserWarning: Glyph 32447 (\\N{CJK UNIFIED IDEOGRAPH-7EBF}) missing from font(s) DejaVu Sans.\n",
      "  fig.canvas.print_figure(bytes_io, **kw)\n",
      "C:\\Users\\Zhou Liying\\.conda\\envs\\env1\\Lib\\site-packages\\IPython\\core\\pylabtools.py:170: UserWarning: Glyph 36718 (\\N{CJK UNIFIED IDEOGRAPH-8F6E}) missing from font(s) DejaVu Sans.\n",
      "  fig.canvas.print_figure(bytes_io, **kw)\n",
      "C:\\Users\\Zhou Liying\\.conda\\envs\\env1\\Lib\\site-packages\\IPython\\core\\pylabtools.py:170: UserWarning: Glyph 27425 (\\N{CJK UNIFIED IDEOGRAPH-6B21}) missing from font(s) DejaVu Sans.\n",
      "  fig.canvas.print_figure(bytes_io, **kw)\n"
     ]
    },
    {
     "data": {
      "image/png": "[encoded data removed]",
      "text/plain": [
       "<Figure size 640x480 with 1 Axes>"
      ]
     },
     "metadata": {},
     "output_type": "display_data"
    },
    {
     "name": "stdout",
     "output_type": "stream",
     "text": [
      "\n",
      "✅ 检查点已保存至 word2vec_checkpoint.pth\n"
     ]
    }
   ],
   "source": [
    "# 包含：\n",
    "# - Word2Vec模型结构\n",
    "# - 训练流程管理\n",
    "\n",
    "# %%\n",
    "class Word2VecModel(nn.Module):\n",
    "    def __init__(self, vocab_size, embed_dim):\n",
    "        super().__init__()\n",
    "        self.embeddings = nn.Embedding(vocab_size, embed_dim)\n",
    "        self.linear = nn.Linear(embed_dim, vocab_size)\n",
    "        \n",
    "    def forward(self, x):\n",
    "        embeds = self.embeddings(x)\n",
    "        return self.linear(embeds)\n",
    "\n",
    "class ModelTrainer:\n",
    "    def __init__(self, config, data_loader):\n",
    "        self.config = config\n",
    "        self.data_loader = data_loader\n",
    "        self.model = Word2VecModel(len(data_loader.vocab), config['embed_dim']).to(DEVICE)\n",
    "        self.optimizer = torch.optim.Adam(self.model.parameters(), lr=0.001)\n",
    "        self.criterion = nn.CrossEntropyLoss()\n",
    "        \n",
    "    def generate_pairs(self):\n",
    "        \"\"\"生成训练样本对\"\"\"\n",
    "        pairs = []\n",
    "        window = self.config['window_size']\n",
    "        corpus = self.data_loader.corpus\n",
    "        vocab = self.data_loader.vocab\n",
    "        \n",
    "        for i in tqdm(range(window, len(corpus)-window), desc=\"生成样本\"):\n",
    "            target = vocab.get(corpus[i], vocab[\"<UNK>\"])\n",
    "            context = [\n",
    "                vocab.get(corpus[j], vocab[\"<UNK>\"])\n",
    "                for j in range(i-window, i+window+1)\n",
    "                if j != i\n",
    "            ]\n",
    "            pairs.extend((target, ctx) for ctx in context)\n",
    "        \n",
    "        print(f\"生成训练样本：{len(pairs):,} 对\")\n",
    "        return pairs\n",
    "    \n",
    "    def train(self):\n",
    "        \"\"\"执行训练流程\"\"\"\n",
    "        pairs = self.generate_pairs()\n",
    "        dataset = torch.utils.data.TensorDataset(\n",
    "            torch.LongTensor([p[0] for p in pairs]),\n",
    "            torch.LongTensor([p[1] for p in pairs])\n",
    "        )\n",
    "        loader = torch.utils.data.DataLoader(\n",
    "            dataset, \n",
    "            batch_size=self.config['batch_size'], \n",
    "            shuffle=True\n",
    "        )\n",
    "        \n",
    "        loss_history = []\n",
    "        for epoch in range(self.config['epochs']):\n",
    "            self.model.train()\n",
    "            total_loss = 0\n",
    "            \n",
    "            for batch in tqdm(loader, desc=f\"训练轮次 {epoch+1}/{self.config['epochs']}\"):\n",
    "                targets, contexts = batch[0].to(DEVICE), batch[1].to(DEVICE)\n",
    "                \n",
    "                self.optimizer.zero_grad()\n",
    "                outputs = self.model(targets)\n",
    "                loss = self.criterion(outputs, contexts)\n",
    "                loss.backward()\n",
    "                self.optimizer.step()\n",
    "                \n",
    "                total_loss += loss.item()\n",
    "            \n",
    "            avg_loss = total_loss / len(loader)\n",
    "            loss_history.append(avg_loss)\n",
    "            print(f\"轮次 {epoch+1} 平均损失：{avg_loss:.4f}\")\n",
    "\n",
    "        \n",
    "        \n",
    "        # 绘制损失曲线\n",
    "        plt.plot(range(1, len(loss_history)+1), loss_history, 'bo-')\n",
    "        plt.xlabel('训练轮次')\n",
    "        plt.ylabel('损失值')\n",
    "        plt.title('训练损失变化曲线')\n",
    "        plt.grid(True)\n",
    "        plt.show()\n",
    "\n",
    "        # 新增检查点保存\n",
    "        checkpoint = {\n",
    "            'model_state_dict': self.model.state_dict(),\n",
    "            'optimizer_state_dict': self.optimizer.state_dict(),\n",
    "            'epoch': self.config['epochs'],\n",
    "            'loss_history': loss_history,\n",
    "            'vocab': self.data_loader.vocab,\n",
    "            'idx2word': self.data_loader.idx2word\n",
    "        }\n",
    "        torch.save(checkpoint, 'word2vec_checkpoint.pth')\n",
    "        print(f\"\\n✅ 检查点已保存至 word2vec_checkpoint.pth\")\n",
    "\n",
    "if not LOAD_CHECKPOINT:\n",
    "    print(\"\\n\" + \"=\"*40 + \" 开始模型训练 \" + \"=\"*40)\n",
    "    trainer = ModelTrainer(CONFIG, data_loader)\n",
    "    trainer.train()\n",
    "else:\n",
    "    print(\"\\n\" + \"=\"*40 + \" 加载检查点 \" + \"=\"*40)\n",
    "    checkpoint = torch.load('word2vec_checkpoint.pth')\n",
    "    model = Word2VecModel(len(checkpoint['vocab']), CONFIG['embed_dim']).to(DEVICE)\n",
    "    model.load_state_dict(checkpoint['model_state_dict'])\n",
    "    vocab = checkpoint['vocab']\n",
    "    idx2word = checkpoint['idx2word']\n",
    "    print(\"✅ 模型已从检查点加载\")"
   ]
  },
  {
   "cell_type": "markdown",
   "id": "ccb19c08-b5d5-46f8-98ff-69e3333ce240",
   "metadata": {},
   "source": [
    "# 4.实体识别模块"
   ]
  },
  {
   "cell_type": "code",
   "execution_count": 4,
   "id": "07789d07-eec1-4883-a9bd-14e622a931ea",
   "metadata": {
    "scrolled": true
   },
   "outputs": [
    {
     "name": "stdout",
     "output_type": "stream",
     "text": [
      "\n",
      "======================================== 开始实体抽取 ========================================\n"
     ]
    },
    {
     "name": "stderr",
     "output_type": "stream",
     "text": [
      "精确匹配: 100%|█████████████████████████████████████████████████████████| 2097595/2097595 [00:00<00:00, 5027917.79it/s]\n",
      "规则补充: 100%|█████████████████████████████████████████████████████████| 2097594/2097594 [00:01<00:00, 1563630.51it/s]"
     ]
    },
    {
     "name": "stdout",
     "output_type": "stream",
     "text": [
      "\n",
      "实体统计：\n",
      "- 人物数量：1,237（示例：['圆心', '杨光', '马行空', '殷吉', '杨中慧']）\n",
      "- 门派数量：648（示例：['店门', '传教', '出寺门', '独门', '派门']）\n",
      "- 武功数量：388（示例：['一字电剑', '凌波微步', '天地同寿', '透骨针', '大韦陀掌']）\n"
     ]
    },
    {
     "name": "stderr",
     "output_type": "stream",
     "text": [
      "\n"
     ]
    }
   ],
   "source": [
    "# 实现：\n",
    "# 1. 精确词典匹配\n",
    "# 2. 规则补充识别\n",
    "# 3. 结果过滤\n",
    "\n",
    "#\n",
    "class EntityExtractor:\n",
    "    def __init__(self, data_loader):\n",
    "        self.data_loader = data_loader\n",
    "        self.corpus = data_loader.corpus\n",
    "        self.entity_data = data_loader.entity_data\n",
    "        \n",
    "    def extract(self):\n",
    "        \"\"\"执行实体抽取\"\"\"\n",
    "        persons, orgs, skills = self._exact_match()\n",
    "        self._rule_based_extract(persons, orgs)\n",
    "        return self._filter_results(persons, orgs, skills)\n",
    "    \n",
    "    def _exact_match(self):\n",
    "        \"\"\"精确匹配已知实体\"\"\"\n",
    "        persons = defaultdict(int)\n",
    "        orgs = defaultdict(int)\n",
    "        skills = defaultdict(int)\n",
    "        \n",
    "        for word in tqdm(self.corpus, desc=\"精确匹配\"):\n",
    "            if word in self.entity_data['persons']:\n",
    "                persons[word] += 1\n",
    "            elif word in self.entity_data['orgs']:\n",
    "                orgs[word] += 1\n",
    "            elif word in self.entity_data['skills']:\n",
    "                skills[word] += 1\n",
    "        \n",
    "        return persons, orgs, skills\n",
    "    \n",
    "    def _rule_based_extract(self, persons, orgs):\n",
    "        \"\"\"基于规则补充提取\"\"\"\n",
    "        compound_surnames = {'欧阳','令狐','慕容','独孤','公孙','司徒','宇文'}\n",
    "        org_suffix = tuple(self.entity_data['orgs'].union({'派','帮','门','教','岛','山庄'}))\n",
    "        \n",
    "        for i in tqdm(range(len(self.corpus)-1), desc=\"规则补充\"):\n",
    "            curr_word, next_word = self.corpus[i], self.corpus[i+1]\n",
    "            \n",
    "            if ((curr_word in compound_surnames and len(next_word) == 1) or \n",
    "                (len(curr_word) == 1 and curr_word in '张李王杨郭黄赵萧')):\n",
    "                combined = curr_word + next_word\n",
    "                if combined not in self.entity_data['persons']:\n",
    "                    persons[combined] += 1\n",
    "            \n",
    "            if curr_word.endswith(org_suffix) and curr_word not in self.entity_data['orgs']:\n",
    "                orgs[curr_word] += 1\n",
    "    \n",
    "    def _filter_results(self, persons, orgs, skills):\n",
    "        \"\"\"结果过滤\"\"\"\n",
    "        return (\n",
    "            {k for k, v in persons.items() if v >= 2} | self.entity_data['persons'],\n",
    "            {k for k, v in orgs.items() if v >= 2} | self.entity_data['orgs'],\n",
    "            self.entity_data['skills']\n",
    "        )\n",
    "\n",
    "print(\"\\n\" + \"=\"*40 + \" 开始实体抽取 \" + \"=\"*40)\n",
    "extractor = EntityExtractor(data_loader)\n",
    "persons, orgs, skills = extractor.extract()\n",
    "\n",
    "print(\"\\n实体统计：\")\n",
    "print(f\"- 人物数量：{len(persons):,}（示例：{list(persons)[:5]}）\")\n",
    "print(f\"- 门派数量：{len(orgs):,}（示例：{list(orgs)[:5]}）\")\n",
    "print(f\"- 武功数量：{len(skills):,}（示例：{list(skills)[:5]}）\")\n",
    "\n"
   ]
  },
  {
   "cell_type": "code",
   "execution_count": null,
   "id": "ce6a9d6e-f331-4a33-b339-d7c033b329a6",
   "metadata": {},
   "outputs": [],
   "source": []
  }
 ],
 "metadata": {
  "kernelspec": {
   "display_name": "Python 3 (ipykernel)",
   "language": "python",
   "name": "python3"
  },
  "language_info": {
   "codemirror_mode": {
    "name": "ipython",
    "version": 3
   },
   "file_extension": ".py",
   "mimetype": "text/x-python",
   "name": "python",
   "nbconvert_exporter": "python",
   "pygments_lexer": "ipython3",
   "version": "3.11.11"
  }
 },
 "nbformat": 4,
 "nbformat_minor": 5
}
